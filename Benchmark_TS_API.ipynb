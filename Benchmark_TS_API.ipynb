{
 "cells": [
  {
   "cell_type": "code",
   "execution_count": 1,
   "metadata": {},
   "outputs": [],
   "source": [
    "from bioblend import galaxy\n",
    "import requests, json, os\n",
    "import warnings\n",
    "warnings.filterwarnings(\"ignore\")"
   ]
  },
  {
   "cell_type": "code",
   "execution_count": 2,
   "metadata": {},
   "outputs": [],
   "source": [
    "filepath = \"/home/md.tusar/work_1/api.py\"\n",
    "with open(filepath) as fp:\n",
    "    exec(fp.read()) "
   ]
  },
  {
   "cell_type": "code",
   "execution_count": 3,
   "metadata": {},
   "outputs": [],
   "source": [
    "gits = galaxy.GalaxyInstance(url = apits_url, key = apits_key, verify = False)"
   ]
  },
  {
   "cell_type": "code",
   "execution_count": 16,
   "metadata": {},
   "outputs": [],
   "source": [
    "for workflow in gits.workflows.get_workflows():\n",
    "    if workflow['name'] == 'Transcriptomics RNA Seq Counts To Genes':\n",
    "        break\n",
    "        \n",
    "for library in gits.libraries.get_libraries():\n",
    "    if library['name'] == 'researcher01':\n",
    "        break\n",
    "\n",
    "        \n",
    "for folder in gits.libraries.get_folders(library_id = library['id']):\n",
    "    if folder['name'] == '/wFlow_data':\n",
    "        try:\n",
    "            for data in gits.folders.show_folder(folder_id = folder['id'], contents = True)['folder_contents']:\n",
    "                if data['name'] == 'Seqdata.tabular':\n",
    "                    RNA_ts_data_1 = data['id']\n",
    "                elif data['name'] == 'Sampleinfo.tabular':\n",
    "                    RNA_ts_data_2 = data['id']\n",
    "                else:\n",
    "                    continue\n",
    "        except:\n",
    "            print('Error in getting folder')\n",
    "            pass\n",
    "\n",
    "\n",
    "        \n",
    "i = 0\n",
    "\n",
    "while i <= 100:\n",
    "    i += 1\n",
    "    try:\n",
    "        gits.workflows.invoke_workflow(workflow_id = workflow['id'], \n",
    "                                     inputs = {'0': {'id': RNA_ts_data_1, 'src': 'ld'},\n",
    "                                               '1': {'id': RNA_ts_data_2, 'src': 'ld'}},\n",
    "                                     params = None, history_name = 'Transcriptomics RNA-Sequencing counts to genes ' + str(i),\n",
    "                                     import_inputs_to_history = True, replacement_params = None,\n",
    "                                     allow_tool_state_corrections = None)\n",
    "    except Exception as e:\n",
    "        print(e)"
   ]
  },
  {
   "cell_type": "code",
   "execution_count": 17,
   "metadata": {
    "collapsed": true
   },
   "outputs": [
    {
     "name": "stdout",
     "output_type": "stream",
     "text": [
      "['1efe9eb0bff40152', '84f63edc852e8a15', '05198bb3e1b33188', '46d87cd113e75617', '7b326180327c3fcc', '8ad39366bdad8699', '7b162ce545dceed9', '153f67c9d7e0d19a', '6d2d4099ead26222', '7ef8021ae23ac2fc', 'dfd15528ee538abe', 'bd0beca16aa307c6', 'ba1915f3923e3bf1', 'c333314861e68c5c', 'e38f593eae81d119', '55504e7a2466a2e3', '6d9affd96770ffb9', '60e680a037f41974', '68013dab1c13fb37', '5761546ab79a71f2', '4eb81b04b33684fd', 'e25cb9ff171a4ef6', 'ceefdfd6cf7aa5ad', '8f9e5986e31a6d36', 'c0103d8755305f16', 'b79aa7e43ec1b406', '49ee1ea2b297a18d', '2dc0be6607f797b5', '0d72ca01c763d02d', '5871d7e6457568ea', '9d052533bb57bd3e', '9005c5112febe774', '0c1da521da72c0b0', '7acb88de7eaf251a', 'e2132aef71b11dbf', '25d23a09c720d5c6', 'd448712f90897b61', 'a2a34db981ff12eb', '339ac952dd54f240', '59ace41fc068d3ad', '0b900c60f93c0654', '110f865fb6a7a80b', 'ddaca2bad6847b13', '323f59dce8d3e67b', '6b7e1d14aa0742ec', 'e14715ce11d8be59', '1ac3b66e11b8fe50', 'ae9879a80bd0a7bc', '71b3098c1ce064d4', 'f6509e58756240f2', '03552bdee8c8190f', '52d6bdfafedbb5e5', 'c86c1b73aa7102dd', '422eef6b1b545329', '2d190d7d262b60f4', 'c8a1d1385ed48f8d', '1343954bc98f8001', '1e3a7ada6d556982', '795b4cb2a2107ba7', '42038d56a41ee4b9', 'd3a4d6a5256f2d9a', '8317ee2b0d0f62d9', '70eec96181a992f8', 'b3fe17e79980f9fc', '83e633fc7a5c928a', 'cbf1b721d1e1b49c', '9fc1c2078b8ee907', '32ff5cf1b96c1df7', '0aab0e4c25198ad8', '4a56addbcc836c23', 'b2486a20bc56b90f', 'eaa9b06464bd346f', '92391ba43dd7fcf4', 'd0bfe935d0f5258d', '32d48e3506ae8cf7', 'e8d3f6db536fde44', 'be8c8ac3dbd1dd54', '7b668ee810f6cf46', '58eee4f13f426cc0', 'a316732806c9a92c', 'b90bd8c6882c06dc', 'd043944c164c4bee', '3f00d864a8cefbf4', '56a89a4246ebc90a', '2faba7054d92b2df', '92b83968e0b52980', '6dbc21d257b88b00', '9ac6c47a8515c831', '59606d2a36c77a56', 'ba0fa2aed4052bce', 'fe38c84dcd46c828', 'a0d84b45643a2678', 'ca9a714f6b79a920', 'c08f58209a47fe2d', 'ab124a85aef33434', '33c1d4ca9f8bc33c', 'b23533e4ff1bb7ec', 'a64417ff266b740e', '9b5c597dcbb59371', '241d84796a24640a', '96d9e11f37f34b29'] 101\n"
     ]
    }
   ],
   "source": [
    "History_ts_trans_rna_id = []\n",
    "\n",
    "for history in gits.histories.get_histories():\n",
    "    if 'Transcriptomics RNA-Sequencing' in history['name']:\n",
    "        History_ts_trans_rna_id.append(history['id'])\n",
    "    else:\n",
    "        continue\n",
    "print(History_ts_trans_rna_id, len(History_ts_trans_rna_id))"
   ]
  },
  {
   "cell_type": "code",
   "execution_count": 21,
   "metadata": {},
   "outputs": [
    {
     "name": "stdout",
     "output_type": "stream",
     "text": [
      "707\n"
     ]
    }
   ],
   "source": [
    "RNA_ts_transcrip_job_ids = []\n",
    "\n",
    "for his in History_ts_trans_rna_id:\n",
    "    for job in gits.jobs.get_jobs():\n",
    "        if job['history_id'] == his:\n",
    "            RNA_ts_transcrip_job_ids.append(job['id'])\n",
    "        else:\n",
    "            continue\n",
    "            \n",
    "print(len(RNA_ts_transcrip_job_ids))"
   ]
  },
  {
   "cell_type": "code",
   "execution_count": 4,
   "metadata": {},
   "outputs": [],
   "source": [
    "giats = galaxy.GalaxyInstance(url = 'https://***********', key = '***********', verify = False)"
   ]
  },
  {
   "cell_type": "code",
   "execution_count": 24,
   "metadata": {
    "collapsed": true
   },
   "outputs": [
    {
     "name": "stdout",
     "output_type": "stream",
     "text": [
      "[106, 81, 11, 13, 11, 13, 104, 85, 12, 12, 10, 14, 112, 87, 15, 11, 11, 13, 104, 84, 14, 13, 11, 13, 100, 81, 13, 10, 13, 12, 98, 88, 13, 12, 11, 13, 110, 84, 12, 13, 10, 13, 110, 81, 12, 12, 11, 13, 96, 81, 12, 12, 13, 10, 99, 82, 12, 12, 12, 11, 97, 81, 11, 12, 11, 13, 104, 85, 11, 13, 11, 13, 99, 84, 12, 11, 10, 13, 103, 82, 12, 13, 11, 12, 97, 88, 11, 13, 11, 13, 110, 85, 12, 12, 10, 13, 96, 86, 11, 12, 10, 12, 107, 83, 11, 14, 11, 14, 109, 80, 13, 11, 10, 13, 108, 83, 11, 14, 11, 14, 107, 80, 13, 14, 12, 12, 108, 80, 13, 11, 11, 12, 99, 86, 16, 11, 12, 11, 104, 82, 11, 14, 12, 12, 107, 86, 13, 13, 10, 12, 105, 81, 10, 13, 11, 13, 108, 82, 11, 13, 12, 13, 111, 81, 13, 11, 10, 12, 109, 81, 12, 12, 10, 13, 108, 80, 12, 13, 10, 14, 111, 88, 11, 13, 11, 14, 101, 80, 11, 13, 11, 13, 110, 84, 11, 13, 13, 10, 106, 88, 12, 10, 10, 12, 113, 83, 12, 13, 11, 13, 100, 84, 12, 11, 12, 13, 108, 88, 13, 12, 15, 11, 105, 82, 14, 11, 11, 13, 111, 91, 12, 13, 14, 13, 110, 82, 11, 12, 12, 10, 108, 83, 11, 12, 12, 12, 110, 87, 11, 12, 11, 12, 106, 86, 11, 13, 12, 11, 112, 89, 11, 12, 12, 13, 109, 82, 12, 13, 11, 13, 110, 82, 15, 12, 11, 14, 109, 83, 12, 14, 10, 13, 108, 84, 12, 13, 11, 12, 107, 84, 12, 15, 13, 12, 130, 84, 13, 11, 15, 11, 107, 81, 12, 12, 13, 12, 114, 83, 13, 11, 11, 13, 110, 82, 11, 13, 12, 14, 106, 83, 15, 12, 10, 14, 108, 84, 13, 14, 13, 10, 116, 80, 12, 12, 11, 12, 111, 82, 12, 12, 12, 12, 107, 82, 11, 14, 11, 14, 110, 83, 11, 12, 11, 13, 108, 90, 11, 11, 10, 13, 109, 83, 12, 11, 12, 10, 105, 81, 13, 12, 11, 12, 109, 84, 13, 10, 12, 11, 109, 83, 11, 13, 11, 12, 107, 84, 11, 14, 11, 13, 112, 86, 11, 12, 12, 12, 106, 89, 11, 13, 11, 13, 110, 82, 11, 13, 11, 12, 106, 81, 12, 11, 13, 11, 108, 81, 10, 13, 12, 13, 106, 85, 12, 13, 11, 13, 109, 86, 12, 12, 13, 12, 110, 82, 12, 11, 12, 14, 111, 86, 11, 12, 11, 13, 112, 84, 11, 15, 11, 13, 108, 87, 10, 12, 12, 12, 110, 86, 11, 13, 13, 11, 109, 82, 12, 15, 11, 12, 112, 89, 12, 13, 10, 13, 107, 91, 11, 13, 11, 15, 117, 89, 12, 11, 11, 13, 110, 88, 11, 12, 12, 13, 108, 90, 12, 13, 11, 14, 111, 82, 12, 11, 12, 13, 107, 87, 12, 12, 12, 12, 109, 82, 12, 11, 13, 11, 116, 84, 12, 12, 11, 12, 113, 80, 12, 12, 11, 12, 111, 81, 12, 11, 12, 12, 107, 86, 12, 12, 13, 14, 108, 83, 11, 12, 12, 13, 109, 85, 11, 14, 11, 13, 110, 86, 11, 12, 12, 13, 106, 88, 14, 10, 12, 13, 109, 84, 15, 10, 14, 11, 114, 87, 11, 14, 13, 11, 113, 84, 14, 11, 13, 11, 105, 83, 12, 13, 12, 13, 108, 83, 14, 11, 11, 13, 107, 83, 13, 13, 14, 10, 110, 87, 13, 12, 13, 11] 606\n"
     ]
    }
   ],
   "source": [
    "RNA_ts_job_Time = []\n",
    "\n",
    "for job in RNA_ts_transcrip_job_ids:\n",
    "    rts = json.loads(requests.get(f\"https://***********/api/jobs/{job}?full=true\", params = giats.default_params, verify = False).content)\n",
    "    if not rts['job_metrics']:\n",
    "        continue\n",
    "    else:\n",
    "        RNA_ts_job_Time.append(int(float(rts['job_metrics'][0]['raw_value'])))\n",
    "        \n",
    "print(RNA_ts_job_Time, len(RNA_ts_job_Time))"
   ]
  },
  {
   "cell_type": "code",
   "execution_count": 25,
   "metadata": {},
   "outputs": [
    {
     "name": "stdout",
     "output_type": "stream",
     "text": [
      "101\n"
     ]
    }
   ],
   "source": [
    "Rts_Time = list(map(list, zip(*([iter(RNA_ts_job_Time)]*6))))\n",
    "print(len(Rts_Time))"
   ]
  },
  {
   "cell_type": "code",
   "execution_count": 26,
   "metadata": {
    "collapsed": true
   },
   "outputs": [
    {
     "name": "stdout",
     "output_type": "stream",
     "text": [
      "[235, 237, 249, 239, 229, 235, 242, 239, 224, 228, 225, 237, 229, 233, 233, 242, 227, 240, 236, 241, 238, 235, 235, 235, 241, 233, 239, 238, 237, 237, 248, 229, 241, 238, 245, 232, 247, 236, 254, 237, 238, 243, 239, 249, 240, 244, 241, 240, 243, 264, 237, 245, 242, 240, 242, 243, 241, 239, 240, 243, 237, 234, 239, 239, 240, 245, 243, 239, 234, 237, 240, 244, 241, 244, 246, 241, 244, 241, 249, 248, 253, 246, 248, 241, 242, 238, 247, 240, 239, 244, 239, 243, 244, 243, 243, 250, 246, 238, 240, 240, 246]\n"
     ]
    }
   ],
   "source": [
    "TS_RJT = []\n",
    "\n",
    "for time in Rts_Time:\n",
    "    c = 0\n",
    "    for i in time:\n",
    "        c += i\n",
    "    TS_RJT.append(c)\n",
    "    \n",
    "print(TS_RJT)"
   ]
  },
  {
   "cell_type": "code",
   "execution_count": 19,
   "metadata": {},
   "outputs": [],
   "source": [
    "import matplotlib.pyplot as plt\n",
    "plt.style.use('classic')\n",
    "%matplotlib inline"
   ]
  },
  {
   "cell_type": "code",
   "execution_count": 34,
   "metadata": {},
   "outputs": [
    {
     "data": {
      "text/plain": [
       "101"
      ]
     },
     "execution_count": 34,
     "metadata": {},
     "output_type": "execute_result"
    }
   ],
   "source": [
    "len(TS_RJT)"
   ]
  },
  {
   "cell_type": "code",
   "execution_count": 12,
   "metadata": {},
   "outputs": [],
   "source": [
    "from matplotlib import pyplot as plt"
   ]
  },
  {
   "cell_type": "code",
   "execution_count": 30,
   "metadata": {},
   "outputs": [],
   "source": [
    "for workflow in gits.workflows.get_workflows():\n",
    "    if workflow['name'] == 'GO Enrichment Workflow':\n",
    "        break\n",
    "        \n",
    "\n",
    "for folder in gits.libraries.get_folders(library_id = library['id']):\n",
    "    if folder['name'] == '/wFlow_data':\n",
    "        try:\n",
    "            for data in gits.folders.show_folder(folder_id = folder['id'], contents = True)['folder_contents']:\n",
    "                if data['name'] == 'drosophila_gene_association.fb':\n",
    "                    GO_ts_data_1 = data['id']\n",
    "                elif data['name'] == 'go.obo':\n",
    "                    GO_ts_data_2 = data['id']\n",
    "                elif data['name'] == 'trapnellPopulation.tab':\n",
    "                    GO_ts_data_3 = data['id']\n",
    "                else:\n",
    "                    continue\n",
    "            try:\n",
    "                GO_ts_datasets = {'0': {'id': GO_ts_data_1, 'src': 'ld'},\n",
    "                                  '1': {'id': GO_ts_data_2, 'src': 'ld'},\n",
    "                                  '2': {'id': GO_ts_data_3, 'src': 'ld'},\n",
    "                                  '3': {'id': GO_ts_data_3, 'src': 'ld'},\n",
    "                                  '4': {'id': GO_ts_data_3, 'src': 'ld'},\n",
    "                                  '5': {'id': GO_ts_data_3, 'src': 'ld'},\n",
    "                                  '6': {'id': GO_ts_data_2, 'src': 'ld'},\n",
    "                                  '7': {'id': GO_ts_data_3, 'src': 'ld'},\n",
    "                                  '8': {'id': GO_ts_data_3, 'src': 'ld'}}\n",
    "            except Exception as e:\n",
    "                print(e)\n",
    "                print(\"Error in generating dataset\")\n",
    "        except Exception as e:\n",
    "            print(e)\n",
    "            print(\"Error in geting the folder\")\n",
    "\n",
    "\n",
    "i = 0\n",
    "\n",
    "while i < 50:\n",
    "    i += 1\n",
    "    try:\n",
    "        gits.workflows.invoke_workflow(workflow_id = workflow['id'],\n",
    "                                       inputs = GO_ts_datasets,\n",
    "                                       params = None, history_name = 'Gene Ontology Enrichment Analysis' + str(i),\n",
    "                                       import_inputs_to_history = True, replacement_params = None,\n",
    "                                       allow_tool_state_corrections = None)\n",
    "    except Exception as e:\n",
    "        print(e)\n",
    "        print(\"The workflow is not invoked\")\n",
    "    "
   ]
  },
  {
   "cell_type": "code",
   "execution_count": 31,
   "metadata": {},
   "outputs": [
    {
     "name": "stdout",
     "output_type": "stream",
     "text": [
      "50\n"
     ]
    }
   ],
   "source": [
    "History_ts_GO_id = []\n",
    "\n",
    "for history in gits.histories.get_histories():\n",
    "    if 'Gene Ontology Enrichment' in history['name']:\n",
    "        History_ts_GO_id.append(history['id'])\n",
    "    else:\n",
    "        continue\n",
    "print(len(History_ts_GO_id))"
   ]
  },
  {
   "cell_type": "code",
   "execution_count": 32,
   "metadata": {},
   "outputs": [
    {
     "name": "stdout",
     "output_type": "stream",
     "text": [
      "500\n"
     ]
    }
   ],
   "source": [
    "GO_ts_job_ids = []\n",
    "\n",
    "for his in History_ts_GO_id:\n",
    "    for job in gits.jobs.get_jobs():\n",
    "        if job['history_id'] == his:\n",
    "            GO_ts_job_ids.append(job['id'])\n",
    "        else:\n",
    "            continue\n",
    "            \n",
    "print(len(GO_ts_job_ids))"
   ]
  },
  {
   "cell_type": "code",
   "execution_count": 45,
   "metadata": {
    "collapsed": true
   },
   "outputs": [
    {
     "name": "stdout",
     "output_type": "stream",
     "text": [
      "[73, 88, 89, 96, 100, 154, 96, 101, 14, 15, 86, 86, 111, 96, 99, 160, 102, 95, 15, 15, 88, 98, 100, 101, 98, 148, 95, 96, 16, 14, 87, 99, 95, 113, 98, 147, 97, 94, 16, 15, 91, 93, 96, 89, 93, 153, 17, 99, 113, 16, 80, 90, 112, 95, 100, 143, 97, 91, 18, 16, 80, 82, 97, 102, 95, 158, 100, 98, 17, 16, 97, 103, 94, 112, 100, 154, 94, 96, 14, 15, 90, 91, 102, 94, 99, 152, 94, 97, 16, 16, 97, 97, 104, 103, 101, 148, 97, 97, 16, 14, 96, 95, 115, 100, 98, 142, 101, 91, 17, 16, 84, 92, 112, 100, 96, 150, 95, 94, 16, 15, 88, 99, 115, 99, 97, 149, 97, 98, 16, 15, 95, 94, 114, 94, 95, 97, 150, 96, 19, 15, 92, 99, 93, 108, 97, 155, 97, 99, 18, 17, 98, 98, 101, 112, 94, 149, 95, 97, 14, 16, 95, 101, 96, 119, 99, 149, 96, 98, 16, 15, 94, 95, 99, 117, 92, 151, 99, 99, 16, 14, 96, 87, 105, 95, 97, 156, 93, 100, 16, 17, 90, 99, 117, 99, 100, 152, 98, 100, 15, 14, 94, 95, 115, 93, 96, 147, 99, 100, 15, 17, 92, 86, 103, 98, 98, 149, 98, 97, 17, 15, 96, 85, 117, 97, 95, 157, 91, 92, 15, 17, 77, 86, 116, 96, 95, 148, 101, 96, 16, 16, 80, 80, 96, 98, 102, 153, 99, 98, 17, 16, 79, 83, 96, 94, 95, 156, 94, 94, 16, 15, 93, 97, 117, 96, 99, 156, 95, 97, 17, 15, 96, 155, 97, 99, 78, 110, 97, 99, 15, 14, 98, 100, 117, 100, 97, 154, 92, 92, 17, 17, 95, 81, 94, 100, 94, 159, 95, 99, 16, 16, 76, 98, 113, 95, 103, 155, 98, 103, 18, 15, 95, 77, 77, 98, 100, 155, 94, 98, 17, 16, 98, 73, 75, 84, 101, 155, 97, 99, 17, 17, 68, 73, 101, 113, 100, 159, 104, 100, 15, 17, 69, 96, 100, 102, 96, 152, 94, 95, 16, 16, 79, 100, 99, 98, 103, 151, 99, 97, 15, 14, 72, 85, 97, 94, 97, 146, 91, 96, 16, 15, 96, 92, 90, 98, 97, 148, 98, 94, 16, 19, 83, 96, 98, 92, 101, 159, 99, 102, 15, 13, 95, 148, 94, 97, 17, 97, 101, 98, 116, 14, 98, 96, 89, 147, 100, 114, 15, 98, 93, 17, 91, 97, 155, 98, 94, 16, 96, 115, 15, 82, 93, 88, 99, 145, 97, 94, 96, 17, 108, 15, 100, 153, 94, 92, 92, 95, 101, 15, 117, 14, 92, 97, 149, 93, 98, 94, 97, 14, 108, 13, 93, 99, 140, 93, 97, 96, 95, 15, 116, 13, 98, 142, 90, 85, 100, 101, 96, 15, 115, 16, 100, 99, 146, 97, 100, 100, 100, 118, 17, 17, 96, 120, 99, 99, 154, 98, 98, 100, 15, 13, 100, 116, 99, 101, 152, 99, 103, 98, 13, 13] 500\n"
     ]
    }
   ],
   "source": [
    "GO_ts_job_Time = []\n",
    "\n",
    "for job in GO_ts_job_ids:\n",
    "    Gts_job = json.loads(requests.get(f\"https://***********/api/jobs/{job}?full=true\", params = giats.default_params, verify = False).content)\n",
    "    if not Gts_job['job_metrics']:\n",
    "        continue\n",
    "    else:\n",
    "        GO_ts_job_Time.append(int(float(Gts_job['job_metrics'][0]['raw_value'])))\n",
    "        \n",
    "print(GO_ts_job_Time, len(GO_ts_job_Time))"
   ]
  },
  {
   "cell_type": "code",
   "execution_count": 46,
   "metadata": {
    "collapsed": true
   },
   "outputs": [
    {
     "name": "stdout",
     "output_type": "stream",
     "text": [
      "[[73, 88, 89, 96, 100, 154, 96, 101, 14, 15], [86, 86, 111, 96, 99, 160, 102, 95, 15, 15], [88, 98, 100, 101, 98, 148, 95, 96, 16, 14], [87, 99, 95, 113, 98, 147, 97, 94, 16, 15], [91, 93, 96, 89, 93, 153, 17, 99, 113, 16], [80, 90, 112, 95, 100, 143, 97, 91, 18, 16], [80, 82, 97, 102, 95, 158, 100, 98, 17, 16], [97, 103, 94, 112, 100, 154, 94, 96, 14, 15], [90, 91, 102, 94, 99, 152, 94, 97, 16, 16], [97, 97, 104, 103, 101, 148, 97, 97, 16, 14], [96, 95, 115, 100, 98, 142, 101, 91, 17, 16], [84, 92, 112, 100, 96, 150, 95, 94, 16, 15], [88, 99, 115, 99, 97, 149, 97, 98, 16, 15], [95, 94, 114, 94, 95, 97, 150, 96, 19, 15], [92, 99, 93, 108, 97, 155, 97, 99, 18, 17], [98, 98, 101, 112, 94, 149, 95, 97, 14, 16], [95, 101, 96, 119, 99, 149, 96, 98, 16, 15], [94, 95, 99, 117, 92, 151, 99, 99, 16, 14], [96, 87, 105, 95, 97, 156, 93, 100, 16, 17], [90, 99, 117, 99, 100, 152, 98, 100, 15, 14], [94, 95, 115, 93, 96, 147, 99, 100, 15, 17], [92, 86, 103, 98, 98, 149, 98, 97, 17, 15], [96, 85, 117, 97, 95, 157, 91, 92, 15, 17], [77, 86, 116, 96, 95, 148, 101, 96, 16, 16], [80, 80, 96, 98, 102, 153, 99, 98, 17, 16], [79, 83, 96, 94, 95, 156, 94, 94, 16, 15], [93, 97, 117, 96, 99, 156, 95, 97, 17, 15], [96, 155, 97, 99, 78, 110, 97, 99, 15, 14], [98, 100, 117, 100, 97, 154, 92, 92, 17, 17], [95, 81, 94, 100, 94, 159, 95, 99, 16, 16], [76, 98, 113, 95, 103, 155, 98, 103, 18, 15], [95, 77, 77, 98, 100, 155, 94, 98, 17, 16], [98, 73, 75, 84, 101, 155, 97, 99, 17, 17], [68, 73, 101, 113, 100, 159, 104, 100, 15, 17], [69, 96, 100, 102, 96, 152, 94, 95, 16, 16], [79, 100, 99, 98, 103, 151, 99, 97, 15, 14], [72, 85, 97, 94, 97, 146, 91, 96, 16, 15], [96, 92, 90, 98, 97, 148, 98, 94, 16, 19], [83, 96, 98, 92, 101, 159, 99, 102, 15, 13], [95, 148, 94, 97, 17, 97, 101, 98, 116, 14], [98, 96, 89, 147, 100, 114, 15, 98, 93, 17], [91, 97, 155, 98, 94, 16, 96, 115, 15, 82], [93, 88, 99, 145, 97, 94, 96, 17, 108, 15], [100, 153, 94, 92, 92, 95, 101, 15, 117, 14], [92, 97, 149, 93, 98, 94, 97, 14, 108, 13], [93, 99, 140, 93, 97, 96, 95, 15, 116, 13], [98, 142, 90, 85, 100, 101, 96, 15, 115, 16], [100, 99, 146, 97, 100, 100, 100, 118, 17, 17], [96, 120, 99, 99, 154, 98, 98, 100, 15, 13], [100, 116, 99, 101, 152, 99, 103, 98, 13, 13]]\n"
     ]
    }
   ],
   "source": [
    "GOTST = list(map(list, zip(*([iter(GO_ts_job_Time)]*10))))\n",
    "print(GOTST)"
   ]
  },
  {
   "cell_type": "code",
   "execution_count": 47,
   "metadata": {},
   "outputs": [
    {
     "name": "stdout",
     "output_type": "stream",
     "text": [
      "[826, 865, 854, 861, 860, 842, 845, 879, 851, 874, 871, 854, 873, 869, 875, 874, 884, 876, 862, 884, 871, 853, 862, 847, 839, 822, 882, 860, 884, 849, 874, 827, 816, 850, 836, 855, 809, 848, 858, 877, 867, 859, 852, 873, 855, 857, 858, 894, 892, 894]\n"
     ]
    }
   ],
   "source": [
    "TS_GOT = []\n",
    "\n",
    "for time in GOTST:\n",
    "    c = 0\n",
    "    for i in time:\n",
    "        c += i\n",
    "    TS_GOT.append(c)\n",
    "    \n",
    "\n",
    "print(TS_GOT)"
   ]
  },
  {
   "cell_type": "code",
   "execution_count": 48,
   "metadata": {},
   "outputs": [
    {
     "data": {
      "text/plain": [
       "50"
      ]
     },
     "execution_count": 48,
     "metadata": {},
     "output_type": "execute_result"
    }
   ],
   "source": [
    "len(TS_GOT)"
   ]
  },
  {
   "cell_type": "code",
   "execution_count": 35,
   "metadata": {},
   "outputs": [],
   "source": [
    "for workflow in gits.workflows.get_workflows():\n",
    "    if workflow['name'] == 'SC - QC with scater':\n",
    "        break\n",
    "        \n",
    "for folder in gits.libraries.get_folders(library_id = library['id']):\n",
    "    if folder['name'] == '/wFlow_data':\n",
    "        try:\n",
    "            for data in gits.folders.show_folder(folder_id = folder['id'], contents = True)['folder_contents']:\n",
    "                if data['name'] == '[annotation.txt].tabular':\n",
    "                    data_SCTS_ts_1 = data['id']\n",
    "                elif data['name'] == '[counts.txt].tabular':\n",
    "                    data_SCTS_ts_2 = data['id']\n",
    "                elif data['name'] == 'https://zenodo.org/record/3386291/files/mt_controls.txt':\n",
    "                    data_SCTS_ts_3 = data['id']\n",
    "                else:\n",
    "                    continue\n",
    "        except:\n",
    "            print(\"Error in getting folder\")\n",
    "            pass\n",
    "        \n",
    "SC_TS_inputs = {'0': {'id': data_SCTS_ts_1, 'src': 'ld'}, '1': {'id': data_SCTS_ts_2, 'src': 'ld'}, '2': {'id': data_SCTS_ts_3, 'src': 'ld'}}\n",
    "\n",
    "\n",
    "i = 0\n",
    "\n",
    "while i < 100:\n",
    "    i += 1\n",
    "    try:\n",
    "        gits.workflows.invoke_workflow(workflow_id = workflow['id'], inputs = SC_TS_inputs,\n",
    "                                       params = None, history_name = 'Single Cell - QC with scater' + str(i),\n",
    "                                       import_inputs_to_history = True, replacement_params = None,\n",
    "                                       allow_tool_state_corrections = None)\n",
    "    except Exception as e:\n",
    "        print(e)\n",
    "        print(\"The workflow is not invoked\")"
   ]
  },
  {
   "cell_type": "code",
   "execution_count": 6,
   "metadata": {},
   "outputs": [
    {
     "name": "stdout",
     "output_type": "stream",
     "text": [
      "100\n"
     ]
    }
   ],
   "source": [
    "History_ts_SCQC_id = []\n",
    "\n",
    "for history in gits.histories.get_histories():\n",
    "    if 'Single Cell - QC' in history['name']:\n",
    "        History_ts_SCQC_id.append(history['id'])\n",
    "    else:\n",
    "        continue\n",
    "print(len(History_ts_SCQC_id))"
   ]
  },
  {
   "cell_type": "code",
   "execution_count": 7,
   "metadata": {},
   "outputs": [
    {
     "name": "stdout",
     "output_type": "stream",
     "text": [
      "500\n"
     ]
    }
   ],
   "source": [
    "SCQC_ts_job_ids = []\n",
    "\n",
    "for his in History_ts_SCQC_id:\n",
    "    for job in gits.jobs.get_jobs():\n",
    "        if job['history_id'] == his:\n",
    "            SCQC_ts_job_ids.append(job['id'])\n",
    "        else:\n",
    "            continue\n",
    "            \n",
    "print(len(SCQC_ts_job_ids))"
   ]
  },
  {
   "cell_type": "code",
   "execution_count": 8,
   "metadata": {},
   "outputs": [
    {
     "name": "stdout",
     "output_type": "stream",
     "text": [
      "500\n"
     ]
    }
   ],
   "source": [
    "SCQC_ts_job_Time = []\n",
    "\n",
    "for job in SCQC_ts_job_ids:\n",
    "    sctst = json.loads(requests.get(f\"https://***********/api/jobs/{job}?full=true\", params = giats.default_params, verify = False).content)\n",
    "    if not sctst['job_metrics']:\n",
    "        continue\n",
    "    else:\n",
    "        SCQC_ts_job_Time.append(int(float(sctst['job_metrics'][0]['raw_value'])))\n",
    "        \n",
    "print(len(SCQC_ts_job_Time))"
   ]
  },
  {
   "cell_type": "code",
   "execution_count": 9,
   "metadata": {
    "collapsed": true
   },
   "outputs": [
    {
     "name": "stdout",
     "output_type": "stream",
     "text": [
      "[[71, 67, 73, 76, 86], [64, 76, 76, 73, 78], [75, 69, 78, 71, 73], [70, 77, 78, 73, 70], [68, 76, 76, 71, 84], [77, 70, 73, 77, 80], [70, 75, 80, 74, 77], [76, 69, 78, 72, 79], [70, 77, 72, 78, 81], [71, 76, 78, 72, 66], [78, 69, 72, 78, 81], [68, 77, 74, 78, 80], [69, 76, 79, 72, 75], [78, 69, 71, 77, 74], [69, 77, 73, 79, 78], [77, 70, 78, 71, 77], [70, 76, 79, 71, 77], [72, 79, 72, 79, 80], [78, 70, 72, 79, 77], [71, 76, 73, 79, 74], [77, 70, 72, 78, 76], [78, 70, 74, 79, 72], [78, 70, 72, 78, 71], [76, 69, 78, 72, 64], [69, 76, 75, 80, 65], [68, 76, 78, 72, 72], [71, 79, 80, 73, 66], [71, 79, 73, 79, 65], [70, 76, 73, 81, 63], [76, 72, 74, 81, 63], [70, 77, 79, 74, 64], [69, 76, 72, 78, 65], [77, 70, 74, 77, 65], [77, 70, 72, 80, 64], [77, 70, 73, 80, 71], [77, 69, 71, 79, 66], [72, 74, 80, 73, 64], [69, 76, 73, 78, 65], [77, 69, 71, 79, 64], [76, 69, 73, 78, 72], [70, 78, 75, 80, 64], [70, 78, 73, 77, 72], [80, 69, 73, 79, 65], [75, 70, 81, 74, 67], [77, 68, 73, 80, 64], [79, 70, 72, 79, 65], [75, 69, 73, 80, 64], [79, 72, 76, 78, 64], [70, 76, 73, 79, 65], [76, 71, 74, 80, 66], [78, 70, 81, 74, 65], [77, 70, 74, 78, 68], [70, 78, 73, 80, 67], [79, 69, 77, 81, 71], [79, 72, 73, 77, 68], [78, 69, 73, 79, 74], [78, 69, 75, 80, 73], [70, 77, 72, 80, 70], [69, 77, 74, 80, 74], [69, 79, 73, 81, 68], [71, 77, 72, 76, 64], [76, 68, 74, 79, 65], [70, 76, 75, 80, 64], [70, 77, 75, 78, 65], [70, 77, 73, 79, 65], [69, 78, 76, 80, 69], [77, 70, 75, 82, 64], [75, 74, 83, 71, 64], [73, 80, 74, 79, 70], [71, 77, 73, 81, 66], [70, 79, 76, 80, 68], [69, 76, 74, 80, 68], [69, 77, 74, 82, 67], [72, 78, 73, 79, 66], [78, 72, 75, 82, 70], [71, 78, 75, 80, 72], [75, 69, 76, 78, 66], [69, 79, 75, 81, 70], [71, 78, 76, 79, 69], [77, 69, 72, 81, 72], [72, 76, 82, 73, 70], [72, 77, 73, 80, 70], [71, 75, 72, 80, 68], [69, 76, 74, 81, 69], [71, 76, 74, 81, 69], [71, 77, 75, 80, 68], [68, 77, 74, 78, 69], [77, 70, 74, 79, 72], [77, 70, 73, 81, 81], [69, 77, 72, 80, 79], [77, 70, 82, 76, 78], [69, 76, 79, 74, 70], [70, 78, 77, 84, 78], [71, 78, 80, 73, 68], [77, 71, 80, 73, 75], [72, 78, 94, 89, 75], [71, 75, 74, 79, 71], [70, 78, 91, 97, 81], [78, 71, 91, 102, 79], [70, 78, 76, 85, 81]]\n"
     ]
    }
   ],
   "source": [
    "SCQCTSJT = list(map(list, zip(*([iter(SCQC_ts_job_Time)]*5))))\n",
    "print(SCQCTSJT)"
   ]
  },
  {
   "cell_type": "code",
   "execution_count": 10,
   "metadata": {
    "collapsed": true
   },
   "outputs": [
    {
     "name": "stdout",
     "output_type": "stream",
     "text": [
      "[373, 367, 366, 368, 375, 377, 376, 374, 378, 363, 378, 377, 371, 369, 376, 373, 373, 382, 376, 373, 373, 373, 369, 359, 365, 366, 369, 367, 363, 366, 364, 360, 363, 363, 371, 362, 363, 361, 360, 368, 367, 370, 366, 367, 362, 365, 361, 369, 363, 367, 368, 367, 368, 377, 369, 373, 375, 369, 374, 370, 360, 362, 365, 365, 364, 372, 368, 367, 376, 368, 373, 367, 369, 368, 377, 376, 364, 374, 373, 371, 373, 372, 366, 369, 371, 371, 366, 372, 382, 377, 383, 368, 387, 370, 376, 408, 370, 417, 421, 390] 100\n"
     ]
    }
   ],
   "source": [
    "TS_SCQCJT = []\n",
    "\n",
    "for time in SCQCTSJT:\n",
    "    a = 0\n",
    "    for i in time:\n",
    "        a += i\n",
    "    TS_SCQCJT.append(a)\n",
    "    \n",
    "print(TS_SCQCJT, len(TS_SCQCJT))"
   ]
  },
  {
   "cell_type": "code",
   "execution_count": 7,
   "metadata": {},
   "outputs": [],
   "source": [
    "for workflow in gits.workflows.get_workflows():\n",
    "    if workflow['name'] == 'Formation Of Super Structures On Xi':\n",
    "        for library in gits.libraries.get_libraries():\n",
    "            if library['name'] == 'researcher01':\n",
    "                for folder in gits.libraries.get_folders(library_id = library['id']):\n",
    "                    if folder['name'] == '/epi_data':\n",
    "                        try:\n",
    "                            for data in gits.folders.show_folder(folder_id = folder['id'], contents = True)['folder_contents']:\n",
    "                                if data['name'] == '[wt_input_rep1].bam':\n",
    "                                    SS_data_1 = data['id']\n",
    "                                elif data['name'] == 'test1.fastq':\n",
    "                                    SS_data_2 = data['id']\n",
    "                                elif data['name'] == '[wt_H3K27me3_rep1].bam':\n",
    "                                    SS_data_3 = data['id']\n",
    "                                elif data['name'] == 'test2.fastq':\n",
    "                                    SS_data_4 = data['id']\n",
    "                                elif data['name'] == '[wt_CTCF_rep2].bam':\n",
    "                                    SS_data_5 = data['id']\n",
    "                                elif data['name'] == '[wt_H3K4me3_rep1].bam':\n",
    "                                    SS_data_6 = data['id']\n",
    "                                elif data['name'] == '[wt_H3K4me3_rep2].bam':\n",
    "                                    SS_data_7 = data['id']\n",
    "                                elif data['name'] == '[wt_H3K27me3_rep2].bam':\n",
    "                                    SS_data_8 = data['id']\n",
    "                                elif data['name'] == '[wt_input_rep2].bam':\n",
    "                                    SS_data_9 = data['id']\n",
    "                                elif data['name'] == '[wt_CTCF_rep1].bam':\n",
    "                                    SS_data_10 = data['id']\n",
    "                                else:\n",
    "                                    continue\n",
    "                            try:\n",
    "                                SS_dataset = {'0': {'id': SS_data_1, 'src': 'ld'},\n",
    "                                               '1': {'id': SS_data_2, 'src': 'ld'},\n",
    "                                               '2': {'id': SS_data_3, 'src': 'ld'},\n",
    "                                               '3': {'id': SS_data_4, 'src': 'ld'},\n",
    "                                               '4': {'id': SS_data_5, 'src': 'ld'},\n",
    "                                               '5': {'id': SS_data_6, 'src': 'ld'},\n",
    "                                               '6': {'id': SS_data_7, 'src': 'ld'},\n",
    "                                               '7': {'id': SS_data_8, 'src': 'ld'},\n",
    "                                               '8': {'id': SS_data_9, 'src': 'ld'}, \n",
    "                                               '9': {'id': SS_data_10, 'src': 'ld'}}\n",
    "                                i = 0\n",
    "                                \n",
    "                                while i < 10:\n",
    "                                    i += 1\n",
    "                                    try:\n",
    "                                        gits.workflows.invoke_workflow(workflow_id = workflow['id'], \n",
    "                                                                     inputs = SS_dataset,\n",
    "                                                                     params = None, history_name = 'Formation of the Super Structures on the i.-X ' + str(i),\n",
    "                                                                     import_inputs_to_history = True, replacement_params = None,\n",
    "                                                                     allow_tool_state_corrections = None)\n",
    "                                    except Exception as e:\n",
    "                                        print(e)\n",
    "                                        print(\"The workflow is not invoked\")\n",
    "                                    \n",
    "                            except Exception as e:\n",
    "                                print(e)\n",
    "                                print(\"Problem in getting the dataset\")\n",
    "                        except:\n",
    "                            print('Error in getting the folder')\n",
    "                            pass"
   ]
  },
  {
   "cell_type": "code",
   "execution_count": 5,
   "metadata": {},
   "outputs": [
    {
     "name": "stdout",
     "output_type": "stream",
     "text": [
      "10\n"
     ]
    }
   ],
   "source": [
    "History_ts_SS_id = []\n",
    "\n",
    "for history in gits.histories.get_histories():\n",
    "    if 'Formation of the Super Structures on the i.-X' in history['name']:\n",
    "        History_ts_SS_id.append(history['id'])\n",
    "    else:\n",
    "        continue\n",
    "print(len(History_ts_SS_id))"
   ]
  },
  {
   "cell_type": "code",
   "execution_count": 6,
   "metadata": {},
   "outputs": [
    {
     "name": "stdout",
     "output_type": "stream",
     "text": [
      "500\n"
     ]
    }
   ],
   "source": [
    "SS_ts_job_ids = []\n",
    "\n",
    "for his in History_ts_SS_id:\n",
    "    for job in gits.jobs.get_jobs():\n",
    "        if job['history_id'] == his:\n",
    "            SS_ts_job_ids.append(job['id'])\n",
    "        else:\n",
    "            continue\n",
    "            \n",
    "print(len(SS_ts_job_ids))"
   ]
  },
  {
   "cell_type": "code",
   "execution_count": 7,
   "metadata": {},
   "outputs": [
    {
     "name": "stdout",
     "output_type": "stream",
     "text": [
      "500\n"
     ]
    }
   ],
   "source": [
    "SS_ts_job_Time = []\n",
    "\n",
    "for job in SS_ts_job_ids:\n",
    "    bdc = json.loads(requests.get(f\"https://***********/api/jobs/{job}?full=true\", params = giats.default_params, verify = False).content)\n",
    "    if not bdc['job_metrics']:\n",
    "        continue\n",
    "    else:\n",
    "        SS_ts_job_Time.append(int(float(bdc['job_metrics'][0]['raw_value'])))\n",
    "        \n",
    "print(len(SS_ts_job_Time))"
   ]
  },
  {
   "cell_type": "code",
   "execution_count": 8,
   "metadata": {
    "collapsed": true
   },
   "outputs": [
    {
     "name": "stdout",
     "output_type": "stream",
     "text": [
      "[[11667, 77, 2821, 35, 13, 801, 11, 10, 10, 10, 19, 11, 10, 10, 15, 10, 11, 16, 15, 16, 11, 10, 11, 11, 11, 2956, 368, 218, 92, 539, 366, 342, 317, 46, 10, 115, 105, 76, 507, 300, 25, 16, 622, 161, 15, 176, 174, 140, 83, 89], [96, 2911, 26, 797, 10, 10, 11, 10, 10, 10, 11, 11, 20, 12, 11, 10, 16, 10, 10, 14, 9966, 2913, 373, 91, 16, 173, 10, 11, 16, 15, 224, 595, 140, 83, 376, 358, 87, 329, 127, 48, 11, 80, 693, 547, 111, 306, 26, 17, 174, 197], [83, 2802, 25, 817, 11, 10, 12, 11, 11, 9, 11, 10, 20, 11, 12, 11, 10, 10, 15, 16, 16, 10, 10, 7613, 15, 2896, 209, 386, 92, 534, 84, 378, 328, 47, 10, 132, 325, 78, 110, 643, 27, 551, 173, 196, 183, 142, 359, 83, 18, 19], [92, 2946, 24, 749, 10, 11, 11, 20, 11, 11, 10, 10, 10, 10, 9878, 2905, 134, 557, 11, 10, 10, 10, 17, 15, 9, 10, 16, 15, 27, 175, 402, 226, 103, 189, 86, 91, 360, 379, 321, 127, 48, 12, 78, 677, 532, 113, 319, 19, 195, 18], [97, 2858, 35, 809, 11, 11, 11, 10, 11, 10, 9, 20, 10, 7997, 10, 9, 10, 9, 14, 10, 9, 15, 14, 15, 3017, 12, 229, 411, 98, 141, 84, 91, 365, 588, 390, 331, 47, 128, 11, 548, 79, 197, 114, 316, 18, 678, 27, 16, 170, 184], [94, 2922, 25, 727, 10, 10, 11, 10, 10, 10, 9, 9, 10131, 10, 19, 11, 10, 11, 10, 15, 10, 11, 16, 16, 16, 3101, 575, 85, 359, 396, 223, 394, 328, 48, 101, 11, 122, 76, 109, 527, 139, 311, 93, 27, 17, 186, 19, 661, 170, 196], [93, 2900, 26, 10, 10, 10, 10046, 721, 10, 11, 10, 11, 10, 19, 10, 10, 10, 9, 14, 16, 15, 15, 12, 11, 11, 3103, 405, 317, 225, 98, 81, 585, 143, 541, 86, 90, 374, 382, 125, 19, 47, 669, 11, 114, 335, 26, 174, 195, 193, 19], [93, 2964, 27, 829, 10, 10, 11, 10, 10, 10048, 10, 10, 9, 10, 15, 16, 19, 12, 11, 10, 10, 15, 16, 10, 10, 3047, 392, 231, 101, 142, 589, 86, 92, 366, 392, 129, 338, 79, 107, 685, 49, 11, 554, 326, 28, 19, 173, 201, 18, 186], [25, 894, 95, 2931, 11, 11, 10, 11, 10, 10, 10, 10, 10350, 10, 20, 11, 12, 11, 11, 15, 10, 16, 15, 11, 16, 3073, 408, 236, 587, 99, 145, 379, 394, 88, 91, 319, 129, 673, 50, 12, 572, 320, 78, 114, 27, 17, 176, 212, 203, 19], [92, 25, 10, 10, 10, 10, 2757, 753, 10, 10, 10, 11, 18, 11, 11, 10, 10, 9, 15, 16, 15, 10, 10, 16, 10033, 3066, 235, 415, 589, 101, 149, 86, 92, 363, 387, 322, 688, 549, 127, 52, 332, 11, 114, 81, 212, 211, 189, 28, 21, 20]]\n"
     ]
    }
   ],
   "source": [
    "SSTSJT = list(map(list, zip(*([iter(SS_ts_job_Time)]*50))))\n",
    "print(SSTSJT)"
   ]
  },
  {
   "cell_type": "code",
   "execution_count": 9,
   "metadata": {},
   "outputs": [
    {
     "name": "stdout",
     "output_type": "stream",
     "text": [
      "[23500, 22129, 19584, 22019, 20304, 22407, 22377, 22536, 22957, 22332]\n"
     ]
    }
   ],
   "source": [
    "TS_SSJT = []\n",
    "\n",
    "for time in SSTSJT:\n",
    "    c = 0\n",
    "    for i in time:\n",
    "        c += i\n",
    "    TS_SSJT.append(c)\n",
    "    \n",
    "print(TS_SSJT)"
   ]
  },
  {
   "cell_type": "markdown",
   "metadata": {},
   "source": [
    "#### Open server vs Trusted server time variation "
   ]
  },
  {
   "cell_type": "code",
   "execution_count": null,
   "metadata": {},
   "outputs": [],
   "source": [
    "plt.plot(OS_RJT, color = 'blue', label='open server')\n",
    "plt.plot(TS_RJT, color = 'red', label = 'trusted server')\n",
    "plt.ylim(120, 270)\n",
    "plt.title('Runtime difference on both server of RNA seq counts to genes')\n",
    "plt.xlabel('Number of history')\n",
    "plt.ylabel('Time (s) required in each history')\n",
    "plt.legend(bbox_to_anchor=(1.04,1), loc=\"upper left\")\n",
    "plt.savefig(\"trial.pdf\")\n",
    "plt.show()"
   ]
  },
  {
   "cell_type": "code",
   "execution_count": null,
   "metadata": {},
   "outputs": [],
   "source": [
    "fig = plt.figure(figsize=(12,6))\n",
    "plt.plot(OS_RJT, color = 'blue', label='open server')\n",
    "plt.plot(TS_RJT, color = 'red', label = 'trusted server')\n",
    "plt.ylim(120, 270)\n",
    "plt.title('Runtime difference on both server of RNA seq counts to genes')\n",
    "plt.xlabel('Number of history')\n",
    "plt.ylabel('Time (s) required in each history')\n",
    "plt.legend(bbox_to_anchor=(1.04,1), loc=\"upper left\")\n",
    "fig.savefig('abc.png', bbox_inches='tight', pad_inches=0)\n",
    "plt.show()"
   ]
  },
  {
   "cell_type": "code",
   "execution_count": null,
   "metadata": {},
   "outputs": [],
   "source": [
    "plt.plot(OS_RJT, color = 'blue', label='open server')\n",
    "plt.plot(TS_RJT, color = 'red', label = 'trusted server')\n",
    "plt.ylim(120, 270)\n",
    "plt.title('Runtime difference on both server of RNA seq counts to genes')\n",
    "plt.xlabel('Number of history')\n",
    "plt.ylabel('Time (s) required in each history')\n",
    "plt.legend(bbox_to_anchor=(1.04,1), loc=\"upper left\")\n",
    "plt.savefig('abc_1.png', bbox_inches='tight', pad_inches=0)\n",
    "plt.show()"
   ]
  },
  {
   "cell_type": "code",
   "execution_count": 3,
   "metadata": {},
   "outputs": [],
   "source": [
    "import matplotlib.pyplot as plt\n",
    "plt.style.use('classic')\n",
    "%matplotlib inline"
   ]
  },
  {
   "cell_type": "code",
   "execution_count": null,
   "metadata": {
    "scrolled": true
   },
   "outputs": [],
   "source": [
    "plt.plot(OS_RJT, color = 'blue', label='open server')\n",
    "plt.plot(TS_RJT, color = 'red', label = 'trusted server')\n",
    "plt.ylim(120, 270)\n",
    "plt.title('Runtime difference of RNA seq counts to genes workflow')\n",
    "plt.xlabel('Number of history')\n",
    "plt.ylabel('Time (s) required in each history')\n",
    "plt.legend(bbox_to_anchor=(1.04,1), loc=\"upper left\")\n",
    "plt.savefig('RNA.png', bbox_inches='tight')\n",
    "plt.show()"
   ]
  },
  {
   "cell_type": "code",
   "execution_count": null,
   "metadata": {},
   "outputs": [],
   "source": [
    "plt.plot(OS_GOT, color = 'blue', label='open server')\n",
    "plt.plot(TS_GOT, color = 'red', label = 'trusted server')\n",
    "plt.ylim(550, 900)\n",
    "plt.title('Runtime difference of GO enrichment analysis workflow')\n",
    "plt.xlabel('Number of history')\n",
    "plt.ylabel('Time (s) required in each history')\n",
    "plt.legend(bbox_to_anchor=(1.02,1), loc=\"upper left\")\n",
    "plt.savefig('GO.png', bbox_inches='tight')\n",
    "plt.show()"
   ]
  },
  {
   "cell_type": "code",
   "execution_count": null,
   "metadata": {},
   "outputs": [],
   "source": [
    "plt.plot(OS_SCQCJT, color = 'blue', label='open server')\n",
    "plt.plot(TS_SCQCJT, color = 'red', label = 'trusted server')\n",
    "plt.ylim(150, 450)\n",
    "plt.title('Runtime difference of single cell QC with scater workflow')\n",
    "plt.xlabel('Number of history')\n",
    "plt.ylabel('Time (s) required in each history')\n",
    "plt.legend(bbox_to_anchor=(1.02,1), loc=\"upper left\")\n",
    "plt.savefig('scqc.png', bbox_inches='tight')\n",
    "plt.show()"
   ]
  },
  {
   "cell_type": "code",
   "execution_count": null,
   "metadata": {},
   "outputs": [],
   "source": [
    "plt.plot(OS_SSJT, color = 'blue', label='open server')\n",
    "plt.plot(TS_SSJT, color = 'red', label = 'trusted server')\n",
    "plt.ylim(14000, 24000)\n",
    "plt.title('Formation of Super Structure runtime difference')\n",
    "plt.xlabel('Number of history')\n",
    "plt.ylabel('Time (s) required in each history')\n",
    "plt.legend(bbox_to_anchor=(1.02,1), loc=\"upper left\")\n",
    "plt.savefig('s_str.png', bbox_inches='tight')\n",
    "plt.show()"
   ]
  }
 ],
 "metadata": {
  "kernelspec": {
   "display_name": "Python 3",
   "language": "python",
   "name": "python3"
  },
  "language_info": {
   "codemirror_mode": {
    "name": "ipython",
    "version": 3
   },
   "file_extension": ".py",
   "mimetype": "text/x-python",
   "name": "python",
   "nbconvert_exporter": "python",
   "pygments_lexer": "ipython3",
   "version": "3.7.6"
  }
 },
 "nbformat": 4,
 "nbformat_minor": 2
}
